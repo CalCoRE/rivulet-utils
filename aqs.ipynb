{
 "cells": [
  {
   "cell_type": "markdown",
   "id": "b5ec3cb3-b8c1-4b97-b162-a7133245efe4",
   "metadata": {},
   "source": [
    "# Data Access Notebook for AQS\n",
    "_by Michelle H Wilkerson, Lucas Coletti_"
   ]
  },
  {
   "cell_type": "markdown",
   "id": "00704800-9a3b-4869-ab91-7dde1aa8ecc3",
   "metadata": {},
   "source": [
    "## Purpose of this Notebook\n",
    "\n",
    "This notebook was developed as part of NSF Grant 2445609 to support accessing and processing AirNow data for middle and high school classroom activities. It's written to be relatively accessible to beginners, but if you have not interacted with computational notebooks or python before you may find navigating this tool difficult. (Check out the Show Your Work project for a gentle introduction to computational notebooks for educators!)\n",
    "\n",
    "Our project is focused on supporting data analysis and mechanistic reasoning in science education. In other words, we want students to learn how data provides information about _how scientific mechanisms work_, and how understanding scientific mechanisms can help them to _explain and interpret patterns in data_. This builds on a long history of research on complex systems and agent-based modeling, and more closely connects that work to current expansions of data analysis across subjects.\n",
    "\n",
    "Here, we are focused on Air Quality as a phenomenon. While most students understand that poor Air Quality can impact health, they may not know that there are many different kinds of air pollution, each caused by different processes and chemicals. These are reflected by different patterns over the course of a day or year\n",
    "\n",
    "This data tool allows users to connect to the Air Quality System API, search for air quality data streams in an area of interest, identify a date range of interest within that area, and then identifies which (if any) of the available data streams recorded observations for _both_ PM2.5 and O3 in that area and time range. These are two key pollutants that impact air quality and that tend to behave very differently over time. These kinds of datasets can serve as a launch to examining what AQ is and what are its underlying mechanistic and compositional complexities.\n",
    "\n",
    "You are welcome to modify and adapt this script. You may find the AQS API documentation [here](https://aqs.epa.gov/aqsweb/documents/data_api.html) and the `pyaqsapi` documentation [here](https://usepa.github.io/pyaqsapi/) helpful."
   ]
  },
  {
   "cell_type": "markdown",
   "id": "b84aa75e-81b2-415e-893f-ddc113837cf6",
   "metadata": {},
   "source": [
    "# Part I: Connecting with AQS\n",
    "\n",
    "Before you get started, you will need an AQS API Key. To get one, make a request using the url `https://aqs.epa.gov/data/api/signup?email=myemail@example.com` (replace myemail@example.com with your email). You will recieve a cute sounding API Key via email. Copy it and set EMAIL and API_KEY in the cell block below to your email and key from the service. (You can use the test email and key that are provided, however, the test account has a limited number of uses per day and may not work. Please register for an account if you would like to use the service.) If you need to reset your key, use this same url with the same email address."
   ]
  },
  {
   "cell_type": "code",
   "execution_count": null,
   "id": "a4ed2b54-91cb-46c2-962e-f0893fa1a331",
   "metadata": {},
   "outputs": [],
   "source": [
    "!pip install pyaqsapi # python aqs helper\n",
    "\n",
    "EMAIL = \"test@aqs.api\" #replace with your registered email\n",
    "API_KEY = \"test\" # replace with your API key"
   ]
  },
  {
   "cell_type": "markdown",
   "id": "7c976e3e-8457-4170-8cb5-4960150501c2",
   "metadata": {},
   "source": [
    "Ok, pyaqsapi is super friendly and gives us our data as pandas dataframes. Let's take a look at the monitors available by site."
   ]
  },
  {
   "cell_type": "code",
   "execution_count": null,
   "id": "f83c3dee-f242-459a-ac37-213ec7a8d7d5",
   "metadata": {},
   "outputs": [],
   "source": [
    "import pyaqsapi as aqs\n",
    "\n",
    "try:\n",
    "    aqs.aqs_credentials(username=EMAIL, key=API_KEY)\n",
    "except Exception as e:\n",
    "    print(f\"Something didn't work: {e}\")"
   ]
  },
  {
   "cell_type": "markdown",
   "id": "9349812d-4c3b-4737-82f3-7271e17cbee5",
   "metadata": {},
   "source": [
    "Now, let's identify a location and time period that we want to explore. AQS can fetch data within a bounding box. Let's not get crazy - start with a relatively small bounding box (try one degree for an urban area) and get bigger if you need. (Tip: If you click on a location in Google Maps, you'll see the lat and long for that point in the URL.)"
   ]
  },
  {
   "cell_type": "markdown",
   "id": "b79d8c2c-0ab5-48e6-85b7-ae1733978d90",
   "metadata": {},
   "source": [
    "# Part II: Identifying O3 and PM monitors"
   ]
  },
  {
   "cell_type": "markdown",
   "id": "55a96741-5310-4edf-b9d6-d943f46afdf8",
   "metadata": {},
   "source": [
    "AQS has settings for different collections of parameters that reflect different \"classes\" of interest. For example, one parameter is SCHOOL AIR TOXICS which highligts 125 pollutants, or HAZARDOUS AIR POLLUTANTS with a total of 407 pollutants (!). Since we're only interested in O3 and PM, let's find a class that has those two and not much else so we're not taxing the system with our queries. AQI POLLUTANTS looks like a good one, it tracks the \"big five\" pollutants that are most commonly discussed along with a few other well known pollutants: "
   ]
  },
  {
   "cell_type": "code",
   "execution_count": 3,
   "id": "229f11c6-aac1-46c0-b9ff-daa6cc5e2b06",
   "metadata": {},
   "outputs": [
    {
     "data": {
      "text/html": [
       "<div>\n",
       "<style scoped>\n",
       "    .dataframe tbody tr th:only-of-type {\n",
       "        vertical-align: middle;\n",
       "    }\n",
       "\n",
       "    .dataframe tbody tr th {\n",
       "        vertical-align: top;\n",
       "    }\n",
       "\n",
       "    .dataframe thead th {\n",
       "        text-align: right;\n",
       "    }\n",
       "</style>\n",
       "<table border=\"1\" class=\"dataframe\">\n",
       "  <thead>\n",
       "    <tr style=\"text-align: right;\">\n",
       "      <th></th>\n",
       "      <th>code</th>\n",
       "      <th>value_represented</th>\n",
       "    </tr>\n",
       "  </thead>\n",
       "  <tbody>\n",
       "    <tr>\n",
       "      <th>0</th>\n",
       "      <td>42101</td>\n",
       "      <td>Carbon monoxide</td>\n",
       "    </tr>\n",
       "    <tr>\n",
       "      <th>1</th>\n",
       "      <td>42401</td>\n",
       "      <td>Sulfur dioxide</td>\n",
       "    </tr>\n",
       "    <tr>\n",
       "      <th>2</th>\n",
       "      <td>42602</td>\n",
       "      <td>Nitrogen dioxide (NO2)</td>\n",
       "    </tr>\n",
       "    <tr>\n",
       "      <th>3</th>\n",
       "      <td>44201</td>\n",
       "      <td>Ozone</td>\n",
       "    </tr>\n",
       "    <tr>\n",
       "      <th>4</th>\n",
       "      <td>81102</td>\n",
       "      <td>PM10 Total 0-10um STP</td>\n",
       "    </tr>\n",
       "    <tr>\n",
       "      <th>5</th>\n",
       "      <td>88101</td>\n",
       "      <td>PM2.5 - Local Conditions</td>\n",
       "    </tr>\n",
       "    <tr>\n",
       "      <th>6</th>\n",
       "      <td>88502</td>\n",
       "      <td>Acceptable PM2.5 AQI &amp; Speciation Mass</td>\n",
       "    </tr>\n",
       "  </tbody>\n",
       "</table>\n",
       "</div>"
      ],
      "text/plain": [
       "    code                       value_represented\n",
       "0  42101                         Carbon monoxide\n",
       "1  42401                          Sulfur dioxide\n",
       "2  42602                  Nitrogen dioxide (NO2)\n",
       "3  44201                                   Ozone\n",
       "4  81102                   PM10 Total 0-10um STP\n",
       "5  88101                PM2.5 - Local Conditions\n",
       "6  88502  Acceptable PM2.5 AQI & Speciation Mass"
      ]
     },
     "execution_count": 3,
     "metadata": {},
     "output_type": "execute_result"
    }
   ],
   "source": [
    "aqs.aqs_parameters_by_class(\"AQI POLLUTANTS\")"
   ]
  },
  {
   "cell_type": "markdown",
   "id": "f6dbd46e-eef2-42e4-8da1-85732c829194",
   "metadata": {},
   "source": [
    "Ok, so note here that O3 is identified by the five-digit code 44201, and PM25 is identified by 88101. That's the info we need to find the right monitors in the dataset."
   ]
  },
  {
   "cell_type": "code",
   "execution_count": null,
   "id": "914ea80b-80a7-4287-80f1-970203cda941",
   "metadata": {
    "scrolled": true
   },
   "outputs": [],
   "source": [
    "# EDIT HERE: define a one unit bounding box around your\n",
    "# target region. Below, I've defined a box that captures a lot\n",
    "# of the SF Bay.\n",
    "\n",
    "min_lat = 40\n",
    "max_lat = 41\n",
    "\n",
    "min_long = -74.5\n",
    "max_long = -73.5\n",
    "\n",
    "# this is unnecessary but sort of luxurious. let's map the box to\n",
    "# make sure we're capturing what we want.\n",
    "\n",
    "import folium\n",
    "\n",
    "bbox = [[min_lat, min_long], [max_lat, max_long]]\n",
    "\n",
    "# Calculate the center of the box to position the map\n",
    "map_center = [(bbox[0][0] + bbox[1][0]) / 2, (bbox[0][1] + bbox[1][1]) / 2]\n",
    "\n",
    "# Create a Folium map object\n",
    "m = folium.Map(location=map_center, zoom_start=8)\n",
    "\n",
    "# Add a rectangle for the bounding box to the map\n",
    "folium.Rectangle(\n",
    "    bounds=bbox,\n",
    "    color=\"#ff0000\",        # Red border\n",
    "    fill=True,\n",
    "    fill_color=\"#ff7800\",   # Orange fill\n",
    "    fill_opacity=0.2\n",
    ").add_to(m)\n",
    "\n",
    "m"
   ]
  },
  {
   "cell_type": "code",
   "execution_count": null,
   "id": "b19f5b6e-5d53-4a9e-9cec-8ecd8e0eff6d",
   "metadata": {},
   "outputs": [],
   "source": [
    "# EDIT HERE: identify a target date when something interesting\n",
    "# was happening. Below, I define Jun 6 2023, a big wildfire smoke day in NY\n",
    "\n",
    "from datetime import datetime, timedelta\n",
    "\n",
    "target_date = \"06-06-2023\"\n",
    "target_datetime = datetime.strptime(target_date, \"%m-%d-%Y\")\n",
    "\n",
    "target_datetime\n",
    "\n",
    "bdate = target_datetime\n",
    "edate = target_datetime + timedelta(days=1)"
   ]
  },
  {
   "cell_type": "markdown",
   "id": "f5eb10f3-2557-4c97-938f-940470117881",
   "metadata": {},
   "source": [
    "Let's start by getting all the active Ozone and PM2.5 monitors in the bounding box during this target date."
   ]
  },
  {
   "cell_type": "code",
   "execution_count": null,
   "id": "357a936e-85ac-4d9a-8ea3-033d21054107",
   "metadata": {
    "scrolled": true
   },
   "outputs": [],
   "source": [
    "relevant_monitors = aqs.bybox.monitors(\n",
    "    parameter= \"44201,88101\", #44201 identifies ozone\n",
    "    bdate=bdate, \n",
    "    edate=edate,\n",
    "    minlat=min_lat,\n",
    "    maxlat=max_lat,\n",
    "    minlon=min_long,\n",
    "    maxlon=max_long,\n",
    ")\n",
    "\n",
    "# sort by site to find which have both\n",
    "relevant_monitors.sort_values('site_number') "
   ]
  },
  {
   "cell_type": "markdown",
   "id": "f17bc500-03bf-4438-b76f-41c8d0b7e515",
   "metadata": {},
   "source": [
    "Ok great. The table above shows a bunch of candidate sites from which you can extract both PM and O3 data. Let's choose one and take two weeks of sample data (that is the highest resolution of measurements available) around our target date."
   ]
  },
  {
   "cell_type": "code",
   "execution_count": null,
   "id": "3d5f1bfc-8015-4137-8d80-f88c8dc6cdb8",
   "metadata": {},
   "outputs": [],
   "source": [
    "# Identify the site number to focus on above. You'll need the \n",
    "# state_code, county_code, and site_number. I'm going to pick\n",
    "# from the options above site 0011 with state_code = 34 and\n",
    "# county_code = 023.\t\n",
    "\n",
    "# get the 2 week interval around the target\n",
    "bdate = target_datetime - timedelta(weeks=1)\n",
    "edate = target_datetime + timedelta(weeks=1)\n",
    "\n",
    "aqdata = aqs.bysite.sampledata(parameter=\"44201,88101\",\n",
    "                      bdate=bdate,\n",
    "                      edate=edate,\n",
    "                      stateFIPS=\"34\",\n",
    "                      countycode=\"023\",\n",
    "                      sitenum=\"0011\")\n",
    "\n",
    "aqdata"
   ]
  },
  {
   "cell_type": "markdown",
   "id": "afba5c93-40de-4608-adca-236b304ababa",
   "metadata": {},
   "source": [
    "You'll see that annoyingly, there is a local date and a local time, and a gmt date and a gmt time, but no datetime. Let's add that since otherwise we'll miss useful resoltuion in our data."
   ]
  },
  {
   "cell_type": "code",
   "execution_count": null,
   "id": "7fa21ba7-1c4e-4a7c-a66a-87c7affe2b58",
   "metadata": {},
   "outputs": [],
   "source": [
    "import pandas as pd\n",
    "\n",
    "combined_series = aqdata['date_local'] + ' ' + aqdata['time_local']\n",
    "aqdata['datetime_local'] = pd.to_datetime(combined_series, format=\"%Y-%m-%d %H:%M\")"
   ]
  },
  {
   "cell_type": "code",
   "execution_count": null,
   "id": "03168e16-3229-408d-bd5b-e3d02bacb553",
   "metadata": {},
   "outputs": [],
   "source": [
    "#let's plot\n",
    "import seaborn as sns\n",
    "\n",
    "g = sns.FacetGrid(aqdata, \n",
    "                  row=\"parameter_code\", \n",
    "                  aspect=4, # this makes the graphs 4x wider than they are tall\n",
    "                  sharey=False) # this treats the scale for each pollutant separately\n",
    "\n",
    "g.map(sns.lineplot, \"datetime_local\", \"sample_measurement\")"
   ]
  },
  {
   "cell_type": "markdown",
   "id": "f514d51b-3c28-4a6c-8584-b551c0851c5c",
   "metadata": {},
   "source": [
    "import seaborn as sns\n",
    "\n",
    "line_plot = sns.lineplot(\n",
    "    data=aqdata[aqdata['parameter_code'] == '88101'], # dplyr filter far superior ijs\n",
    "    x='datetime_local',\n",
    "    y='sample_measurement',\n",
    "    hue='parameter',\n",
    ")"
   ]
  },
  {
   "cell_type": "code",
   "execution_count": null,
   "id": "129c4d5f-dcf6-46fb-a2fe-51f720ff6de7",
   "metadata": {},
   "outputs": [],
   "source": [
    "aqdata.to_csv(\"filename.csv\")"
   ]
  },
  {
   "cell_type": "markdown",
   "id": "7054f543-f2e0-449e-beef-76dc36fda6b1",
   "metadata": {},
   "source": [
    "# Credit\n",
    "\n",
    "https://aqs.epa.gov/aqsweb/documents/about_aqs_data.html"
   ]
  },
  {
   "cell_type": "code",
   "execution_count": null,
   "id": "d6e8657e-5eda-44d0-be3c-3cd9224aa19a",
   "metadata": {},
   "outputs": [],
   "source": []
  }
 ],
 "metadata": {
  "kernelspec": {
   "display_name": "Python 3 (ipykernel)",
   "language": "python",
   "name": "python3"
  },
  "language_info": {
   "codemirror_mode": {
    "name": "ipython",
    "version": 3
   },
   "file_extension": ".py",
   "mimetype": "text/x-python",
   "name": "python",
   "nbconvert_exporter": "python",
   "pygments_lexer": "ipython3",
   "version": "3.11.13"
  }
 },
 "nbformat": 4,
 "nbformat_minor": 5
}
