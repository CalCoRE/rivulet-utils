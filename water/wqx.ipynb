{
 "cells": [
  {
   "cell_type": "markdown",
   "id": "51ef8734-0209-4e97-9319-e38561145fe6",
   "metadata": {},
   "source": [
    "# Rivulet: USGS Water Data APIs\n",
    "_by Michelle H Wilkerson_"
   ]
  },
  {
   "cell_type": "markdown",
   "id": "00704800-9a3b-4869-ab91-7dde1aa8ecc3",
   "metadata": {},
   "source": [
    "## Purpose of this Notebook\n",
    "\n",
    "This notebook was developed as part of NSF Grant 2445609 to support accessing and processing public data for middle and high school classroom activities. It's written to be relatively accessible to beginners, but if you have not interacted with computational notebooks or python before you may find navigating this tool difficult. (Check out the Show Your Work project for a gentle introduction to computational notebooks for educators!)\n",
    "\n",
    "Our project is focused on supporting data analysis and mechanistic reasoning in science education. In other words, we want students to learn how data provides information about _how scientific mechanisms work_, and how understanding scientific mechanisms can help them to _explain and interpret patterns in data_. This builds on a long history of research on complex systems and agent-based modeling, and more closely connects that work to current expansions of data analysis across subjects.\n",
    "\n",
    "Here, we are focused on Water Quality as a phenomenon. While most students understand that poor Water Quality can impact health, they may not know what sorts of pollutants impact water quality, and what kinds of events or conditions lead to reductions in water quality.\n",
    "\n",
    "This data tool allows users to connect to the United States Geological Survey (USGS) water data APIs, search for water quality data streams in an area of interest, and then provides a collection of ways to fitler and search the data to ensure you find datasets that have patterns worth exploring. These kinds of datasets can serve as a launch to examining what WQ is and what are its underlying mechanistic and compositional complexities.\n",
    "\n",
    "You are welcome to modify and adapt this script. You may find the USGS' water data APIs documentation [here](https://api.waterdata.usgs.gov/) and [here]() helpful."
   ]
  },
  {
   "cell_type": "markdown",
   "id": "6d2587a6-dcd4-4ba4-8d75-3395a95295af",
   "metadata": {},
   "source": [
    "## Part 0: What is an API? (Click to expand...)"
   ]
  },
  {
   "cell_type": "markdown",
   "id": "30819752-01e2-43d5-959f-d9edeec799db",
   "metadata": {},
   "source": [
    "Describe APIs, how they work, how common they are in data science, why they are useful for educators and educational researchers who do data science education work to know about. Describe the risks and concerns about APIs and using them to source data that students will interact with."
   ]
  },
  {
   "cell_type": "markdown",
   "id": "b84aa75e-81b2-415e-893f-ddc113837cf6",
   "metadata": {},
   "source": [
    "## Part I: Connecting with USGS Water Data APIs\n",
    "\n",
    "You can sign up for an API key [at this site](https://api.waterdata.usgs.gov/signup). Once you recieve it, replace the DEMO_KEY below with your unique API key. Do not share your key!"
   ]
  },
  {
   "cell_type": "code",
   "execution_count": null,
   "id": "650069ed-9e7f-4344-a1b5-14e59415bb36",
   "metadata": {},
   "outputs": [],
   "source": [
    "API_KEY = \"DEMO_KEY\" "
   ]
  },
  {
   "cell_type": "markdown",
   "id": "6064c393-13f6-401f-9e7a-846229aa6c5b",
   "metadata": {},
   "source": [
    "## Part 2: Specifying a Location and Time Period"
   ]
  },
  {
   "cell_type": "markdown",
   "id": "1385e8a1-f567-4de0-8dd7-7eb66bc93835",
   "metadata": {},
   "source": [
    "We likely found more locations than we expected! But, these are not all likely to have the specific information we need. Let's filter our results so we're only looking at locations that PM2.5 and O3."
   ]
  },
  {
   "cell_type": "markdown",
   "id": "9b89a3ac-8d91-44cb-b181-d38d1bb02fc3",
   "metadata": {},
   "source": [
    "Good! Now you can clearly see the id of stations that have the data you need. You can also see the interval of times for which these records are available by scrolling all the way to the right in the table above. If you're using the originally hard-coded bay area, these look like they both started in 2016 and are up-to-date."
   ]
  },
  {
   "cell_type": "markdown",
   "id": "6e020c07-da97-4fa9-975b-0f657eb357cd",
   "metadata": {},
   "source": [
    "Ok so our O3 sensor id is 3833, and our PM2.5 sensor is 3835. Let's fetch the latest data for each of these sensors. We clean it up and merge it into one dataset."
   ]
  },
  {
   "cell_type": "markdown",
   "id": "b84f26a7-f9a4-4d84-a7c9-3a0cdcd01a36",
   "metadata": {},
   "source": [
    "Here's some code to expore a csv of the merged dataset to use in other tools. (Should be very easy to work with in CODAP from here.)"
   ]
  }
 ],
 "metadata": {
  "kernelspec": {
   "display_name": "Python 3 (ipykernel)",
   "language": "python",
   "name": "python3"
  },
  "language_info": {
   "codemirror_mode": {
    "name": "ipython",
    "version": 3
   },
   "file_extension": ".py",
   "mimetype": "text/x-python",
   "name": "python",
   "nbconvert_exporter": "python",
   "pygments_lexer": "ipython3",
   "version": "3.11.13"
  }
 },
 "nbformat": 4,
 "nbformat_minor": 5
}
